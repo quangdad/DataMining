{
  "nbformat": 4,
  "nbformat_minor": 0,
  "metadata": {
    "colab": {
      "provenance": [],
      "authorship_tag": "ABX9TyMfkNfcuovE51TBZhUEATzZ",
      "include_colab_link": true
    },
    "kernelspec": {
      "name": "python3",
      "display_name": "Python 3"
    },
    "language_info": {
      "name": "python"
    }
  },
  "cells": [
    {
      "cell_type": "markdown",
      "metadata": {
        "id": "view-in-github",
        "colab_type": "text"
      },
      "source": [
        "<a href=\"https://colab.research.google.com/github/quangdad/DataMining/blob/main/RandomForest.ipynb\" target=\"_parent\"><img src=\"https://colab.research.google.com/assets/colab-badge.svg\" alt=\"Open In Colab\"/></a>"
      ]
    },
    {
      "cell_type": "code",
      "execution_count": null,
      "metadata": {
        "colab": {
          "base_uri": "https://localhost:8080/"
        },
        "id": "1TgLmZcBA8FJ",
        "outputId": "afaba8ca-ee66-4537-cab9-01f3ea8ac24a"
      },
      "outputs": [
        {
          "output_type": "stream",
          "name": "stdout",
          "text": [
            "Test set accuracy: 0.94\n",
            "Kết quả dự đoán trên tập kiểm tra:\n",
            "Mẫu 1: Bệnh nhân bị nhiễm virus viêm gan B\n",
            "Mẫu 2: Bệnh nhân không bị nhiễm virus viêm gan B\n",
            "Mẫu 3: Bệnh nhân bị nhiễm virus viêm gan B\n",
            "Mẫu 4: Bệnh nhân không bị nhiễm virus viêm gan B\n",
            "Mẫu 5: Bệnh nhân bị nhiễm virus viêm gan B\n",
            "Mẫu 6: Bệnh nhân bị nhiễm virus viêm gan B\n",
            "Mẫu 7: Bệnh nhân không bị nhiễm virus viêm gan B\n",
            "Mẫu 8: Bệnh nhân bị nhiễm virus viêm gan B\n",
            "Mẫu 9: Bệnh nhân bị nhiễm virus viêm gan B\n",
            "Mẫu 10: Bệnh nhân bị nhiễm virus viêm gan B\n"
          ]
        }
      ],
      "source": [
        "import pandas as pd\n",
        "import numpy as np\n",
        "from sklearn.ensemble import RandomForestClassifier\n",
        "from sklearn.model_selection import train_test_split\n",
        "from sklearn.metrics import accuracy_score\n",
        "import missingno as msno\n",
        "\n",
        "# Load and preprocess data\n",
        "data = pd.read_csv('https://archive.ics.uci.edu/ml/machine-learning-databases/hepatitis/hepatitis.data', header=None, names=['Class', 'Age', 'Sex', 'Steroid', 'Antivirals', 'Fatigue', 'Malaise', 'Anorexia', 'LiverBig', 'LiverFirm', 'SpleenPalpable', 'Spiders', 'Ascites', 'Varices', 'Bilirubin', 'AlkPhosphate', 'SGOT', 'Albumin', 'Protime', 'Histology'])\n",
        "data = data.replace('?', np.nan).dropna()\n",
        "\n",
        "# Split data into training and testing sets\n",
        "X_train, X_test, y_train, y_test = train_test_split(data.drop('Class', axis=1), data['Class'], test_size=0.2, random_state=42)\n",
        "\n",
        "# Train Random Forest model\n",
        "rf_model = RandomForestClassifier(n_estimators=100, random_state=42)\n",
        "rf_model.fit(X_train, y_train)\n",
        "\n",
        "# Make predictions on test set\n",
        "y_pred = rf_model.predict(X_test)\n",
        "\n",
        "# Calculate accuracy on test set\n",
        "accuracy = accuracy_score(y_test, y_pred)\n",
        "print(f'Test set accuracy: {accuracy:.2f}')\n",
        "\n",
        "# Load and preprocess test data\n",
        "test_data = pd.read_csv('patients.csv', header=None, names=['Class', 'Age', 'Sex', 'Steroid', 'Antivirals', 'Fatigue', 'Malaise', 'Anorexia', 'LiverBig', 'LiverFirm', 'SpleenPalpable', 'Spiders', 'Ascites', 'Varices', 'Bilirubin', 'AlkPhosphate', 'SGOT', 'Albumin', 'Protime', 'Histology'])\n",
        "test_data = test_data.replace('?', np.nan).dropna()\n",
        "\n",
        "# Make predictions on test data\n",
        "X_test = test_data.drop('Class', axis=1)\n",
        "y_test = test_data['Class']\n",
        "\n",
        "#Make predictions on test data\n",
        "y_pred = rf_model.predict(X_test)\n",
        "\n",
        "print('Kết quả dự đoán trên tập kiểm tra:')\n",
        "for i in range(len(y_pred)):\n",
        "    sample = X_test.iloc[[i]]\n",
        "    prediction = rf_model.predict(sample)[0]\n",
        "    if prediction == 1:\n",
        "        print(f'Mẫu {i+1}: Bệnh nhân không bị nhiễm virus viêm gan B')\n",
        "    else:\n",
        "        print(f'Mẫu {i+1}: Bệnh nhân bị nhiễm virus viêm gan B')\n"
      ]
    }
  ]
}